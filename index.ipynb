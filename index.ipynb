{
 "cells": [
  {
   "attachments": {
    "ndegeeee-2.png": {
     "image/png": "[encoded data removed]"
    }
   },
   "cell_type": "markdown",
   "metadata": {},
   "source": [
    "# AIRCRAFT RISK ANALYSIS\n",
    "![ndegeeee-2.png](attachment:ndegeeee-2.png)"
   ]
  },
  {
   "cell_type": "markdown",
   "metadata": {},
   "source": [
    "### Overview\n",
    "To provide actionable insights for the company's new aviation division, we'll analyze the dataset from the National Transportation Safety Board that includes aviation accident data from 1962 to 2023 about civil aviation accidents and selected incidents in the United States and international waters. \n",
    "Our goal is to identify aircraft with the lowest risk, guiding the company in selecting safe aircraft for their new venture. \n",
    "The process will involve data cleaning, imputation, analysis, and visualization.\n"
   ]
  },
  {
   "cell_type": "markdown",
   "metadata": {},
   "source": [
    "### Business Problem\n",
    "\n",
    "The company is expanding into the aviation industry and needs to determine which aircraft types are the lowest risk to purchase. This analysis will help the head of the new aviation division make informed decisions about which aircraft to acquire for commercial and private enterprises.\n",
    "\n"
   ]
  },
  {
   "cell_type": "markdown",
   "metadata": {},
   "source": [
    "#### Objectives:\n",
    "\n",
    "MAIN OBJECTIVE:\n",
    "Identify aircraft models that offer the lowest risk profile for purchase and operation, aligning with the company's strategic expansion into the aviation sector.\n",
    "\n",
    "SPECIFIC OBJECTIVES:\n",
    "\n",
    "Determine the safety performance of different aircraft models by analyzing historical accident data.\n",
    "Differentiate between aircraft suitable for commercial ventures and those more suitable for private use, based on risk assessment and operational requirements."
   ]
  },
  {
   "cell_type": "markdown",
   "metadata": {},
   "source": [
    "### Data Understanding\n",
    "The dataset contains information on aviation accidents from 1962 to 2023, detailing various aspects such as aircraft type, injury severity, and accident location. Many columns have missing values and inconsistent data types, necessitating thorough cleaning and preprocessing. Key tasks include handling missing values, converting data types for accurate analysis, and extracting relevant information from categorical data. This preparation is essential for identifying low-risk aircraft and providing actionable insights for the company's new aviation division."
   ]
  },
  {
   "cell_type": "code",
   "execution_count": 1,
   "metadata": {},
   "outputs": [],
   "source": [
    "#Importing necessary libraries\n",
    "import datetime\n",
    "import pandas as pd\n",
    "import numpy as np\n",
    "import seaborn as sns\n",
    "import matplotlib.pyplot as plt\n",
    "%matplotlib inline"
   ]
  },
  {
   "cell_type": "code",
   "execution_count": 2,
   "metadata": {},
   "outputs": [
    {
     "data": {
      "text/html": [
       "<div>\n",
       "<style scoped>\n",
       "    .dataframe tbody tr th:only-of-type {\n",
       "        vertical-align: middle;\n",
       "    }\n",
       "\n",
       "    .dataframe tbody tr th {\n",
       "        vertical-align: top;\n",
       "    }\n",
       "\n",
       "    .dataframe thead th {\n",
       "        text-align: right;\n",
       "    }\n",
       "</style>\n",
       "<table border=\"1\" class=\"dataframe\">\n",
       "  <thead>\n",
       "    <tr style=\"text-align: right;\">\n",
       "      <th></th>\n",
       "      <th>US_State</th>\n",
       "      <th>Abbreviation</th>\n",
       "    </tr>\n",
       "  </thead>\n",
       "  <tbody>\n",
       "    <tr>\n",
       "      <th>0</th>\n",
       "      <td>Alabama</td>\n",
       "      <td>AL</td>\n",
       "    </tr>\n",
       "    <tr>\n",
       "      <th>1</th>\n",
       "      <td>Alaska</td>\n",
       "      <td>AK</td>\n",
       "    </tr>\n",
       "    <tr>\n",
       "      <th>2</th>\n",
       "      <td>Arizona</td>\n",
       "      <td>AZ</td>\n",
       "    </tr>\n",
       "    <tr>\n",
       "      <th>3</th>\n",
       "      <td>Arkansas</td>\n",
       "      <td>AR</td>\n",
       "    </tr>\n",
       "    <tr>\n",
       "      <th>4</th>\n",
       "      <td>California</td>\n",
       "      <td>CA</td>\n",
       "    </tr>\n",
       "  </tbody>\n",
       "</table>\n",
       "</div>"
      ],
      "text/plain": [
       "     US_State Abbreviation\n",
       "0     Alabama           AL\n",
       "1      Alaska           AK\n",
       "2     Arizona           AZ\n",
       "3    Arkansas           AR\n",
       "4  California           CA"
      ]
     },
     "execution_count": 2,
     "metadata": {},
     "output_type": "execute_result"
    }
   ],
   "source": [
    "#Loading the US State dataset\n",
    "US_State_df = pd.read_csv('data/USState_Codes.csv')\n",
    "# Previewing the top of our dataset\n",
    "US_State_df.head()"
   ]
  },
  {
   "cell_type": "code",
   "execution_count": 3,
   "metadata": {},
   "outputs": [
    {
     "data": {
      "text/html": [
       "<div>\n",
       "<style scoped>\n",
       "    .dataframe tbody tr th:only-of-type {\n",
       "        vertical-align: middle;\n",
       "    }\n",
       "\n",
       "    .dataframe tbody tr th {\n",
       "        vertical-align: top;\n",
       "    }\n",
       "\n",
       "    .dataframe thead th {\n",
       "        text-align: right;\n",
       "    }\n",
       "</style>\n",
       "<table border=\"1\" class=\"dataframe\">\n",
       "  <thead>\n",
       "    <tr style=\"text-align: right;\">\n",
       "      <th></th>\n",
       "      <th>Event.Id</th>\n",
       "      <th>Investigation.Type</th>\n",
       "      <th>Accident.Number</th>\n",
       "      <th>Event.Date</th>\n",
       "      <th>Location</th>\n",
       "      <th>Country</th>\n",
       "      <th>Latitude</th>\n",
       "      <th>Longitude</th>\n",
       "      <th>Airport.Code</th>\n",
       "      <th>Airport.Name</th>\n",
       "      <th>...</th>\n",
       "      <th>Purpose.of.flight</th>\n",
       "      <th>Air.carrier</th>\n",
       "      <th>Total.Fatal.Injuries</th>\n",
       "      <th>Total.Serious.Injuries</th>\n",
       "      <th>Total.Minor.Injuries</th>\n",
       "      <th>Total.Uninjured</th>\n",
       "      <th>Weather.Condition</th>\n",
       "      <th>Broad.phase.of.flight</th>\n",
       "      <th>Report.Status</th>\n",
       "      <th>Publication.Date</th>\n",
       "    </tr>\n",
       "  </thead>\n",
       "  <tbody>\n",
       "    <tr>\n",
       "      <th>88884</th>\n",
       "      <td>20221227106491</td>\n",
       "      <td>Accident</td>\n",
       "      <td>ERA23LA093</td>\n",
       "      <td>2022-12-26</td>\n",
       "      <td>Annapolis, MD</td>\n",
       "      <td>United States</td>\n",
       "      <td>NaN</td>\n",
       "      <td>NaN</td>\n",
       "      <td>NaN</td>\n",
       "      <td>NaN</td>\n",
       "      <td>...</td>\n",
       "      <td>Personal</td>\n",
       "      <td>NaN</td>\n",
       "      <td>0.0</td>\n",
       "      <td>1.0</td>\n",
       "      <td>0.0</td>\n",
       "      <td>0.0</td>\n",
       "      <td>NaN</td>\n",
       "      <td>NaN</td>\n",
       "      <td>NaN</td>\n",
       "      <td>29-12-2022</td>\n",
       "    </tr>\n",
       "    <tr>\n",
       "      <th>88885</th>\n",
       "      <td>20221227106494</td>\n",
       "      <td>Accident</td>\n",
       "      <td>ERA23LA095</td>\n",
       "      <td>2022-12-26</td>\n",
       "      <td>Hampton, NH</td>\n",
       "      <td>United States</td>\n",
       "      <td>NaN</td>\n",
       "      <td>NaN</td>\n",
       "      <td>NaN</td>\n",
       "      <td>NaN</td>\n",
       "      <td>...</td>\n",
       "      <td>NaN</td>\n",
       "      <td>NaN</td>\n",
       "      <td>0.0</td>\n",
       "      <td>0.0</td>\n",
       "      <td>0.0</td>\n",
       "      <td>0.0</td>\n",
       "      <td>NaN</td>\n",
       "      <td>NaN</td>\n",
       "      <td>NaN</td>\n",
       "      <td>NaN</td>\n",
       "    </tr>\n",
       "    <tr>\n",
       "      <th>88886</th>\n",
       "      <td>20221227106497</td>\n",
       "      <td>Accident</td>\n",
       "      <td>WPR23LA075</td>\n",
       "      <td>2022-12-26</td>\n",
       "      <td>Payson, AZ</td>\n",
       "      <td>United States</td>\n",
       "      <td>341525N</td>\n",
       "      <td>1112021W</td>\n",
       "      <td>PAN</td>\n",
       "      <td>PAYSON</td>\n",
       "      <td>...</td>\n",
       "      <td>Personal</td>\n",
       "      <td>NaN</td>\n",
       "      <td>0.0</td>\n",
       "      <td>0.0</td>\n",
       "      <td>0.0</td>\n",
       "      <td>1.0</td>\n",
       "      <td>VMC</td>\n",
       "      <td>NaN</td>\n",
       "      <td>NaN</td>\n",
       "      <td>27-12-2022</td>\n",
       "    </tr>\n",
       "    <tr>\n",
       "      <th>88887</th>\n",
       "      <td>20221227106498</td>\n",
       "      <td>Accident</td>\n",
       "      <td>WPR23LA076</td>\n",
       "      <td>2022-12-26</td>\n",
       "      <td>Morgan, UT</td>\n",
       "      <td>United States</td>\n",
       "      <td>NaN</td>\n",
       "      <td>NaN</td>\n",
       "      <td>NaN</td>\n",
       "      <td>NaN</td>\n",
       "      <td>...</td>\n",
       "      <td>Personal</td>\n",
       "      <td>MC CESSNA 210N LLC</td>\n",
       "      <td>0.0</td>\n",
       "      <td>0.0</td>\n",
       "      <td>0.0</td>\n",
       "      <td>0.0</td>\n",
       "      <td>NaN</td>\n",
       "      <td>NaN</td>\n",
       "      <td>NaN</td>\n",
       "      <td>NaN</td>\n",
       "    </tr>\n",
       "    <tr>\n",
       "      <th>88888</th>\n",
       "      <td>20221230106513</td>\n",
       "      <td>Accident</td>\n",
       "      <td>ERA23LA097</td>\n",
       "      <td>2022-12-29</td>\n",
       "      <td>Athens, GA</td>\n",
       "      <td>United States</td>\n",
       "      <td>NaN</td>\n",
       "      <td>NaN</td>\n",
       "      <td>NaN</td>\n",
       "      <td>NaN</td>\n",
       "      <td>...</td>\n",
       "      <td>Personal</td>\n",
       "      <td>NaN</td>\n",
       "      <td>0.0</td>\n",
       "      <td>1.0</td>\n",
       "      <td>0.0</td>\n",
       "      <td>1.0</td>\n",
       "      <td>NaN</td>\n",
       "      <td>NaN</td>\n",
       "      <td>NaN</td>\n",
       "      <td>30-12-2022</td>\n",
       "    </tr>\n",
       "  </tbody>\n",
       "</table>\n",
       "<p>5 rows × 31 columns</p>\n",
       "</div>"
      ],
      "text/plain": [
       "             Event.Id Investigation.Type Accident.Number  Event.Date  \\\n",
       "88884  20221227106491           Accident      ERA23LA093  2022-12-26   \n",
       "88885  20221227106494           Accident      ERA23LA095  2022-12-26   \n",
       "88886  20221227106497           Accident      WPR23LA075  2022-12-26   \n",
       "88887  20221227106498           Accident      WPR23LA076  2022-12-26   \n",
       "88888  20221230106513           Accident      ERA23LA097  2022-12-29   \n",
       "\n",
       "            Location        Country Latitude Longitude Airport.Code  \\\n",
       "88884  Annapolis, MD  United States      NaN       NaN          NaN   \n",
       "88885    Hampton, NH  United States      NaN       NaN          NaN   \n",
       "88886     Payson, AZ  United States  341525N  1112021W          PAN   \n",
       "88887     Morgan, UT  United States      NaN       NaN          NaN   \n",
       "88888     Athens, GA  United States      NaN       NaN          NaN   \n",
       "\n",
       "      Airport.Name  ... Purpose.of.flight         Air.carrier  \\\n",
       "88884          NaN  ...          Personal                 NaN   \n",
       "88885          NaN  ...               NaN                 NaN   \n",
       "88886       PAYSON  ...          Personal                 NaN   \n",
       "88887          NaN  ...          Personal  MC CESSNA 210N LLC   \n",
       "88888          NaN  ...          Personal                 NaN   \n",
       "\n",
       "      Total.Fatal.Injuries Total.Serious.Injuries Total.Minor.Injuries  \\\n",
       "88884                  0.0                    1.0                  0.0   \n",
       "88885                  0.0                    0.0                  0.0   \n",
       "88886                  0.0                    0.0                  0.0   \n",
       "88887                  0.0                    0.0                  0.0   \n",
       "88888                  0.0                    1.0                  0.0   \n",
       "\n",
       "      Total.Uninjured Weather.Condition  Broad.phase.of.flight Report.Status  \\\n",
       "88884             0.0               NaN                    NaN           NaN   \n",
       "88885             0.0               NaN                    NaN           NaN   \n",
       "88886             1.0               VMC                    NaN           NaN   \n",
       "88887             0.0               NaN                    NaN           NaN   \n",
       "88888             1.0               NaN                    NaN           NaN   \n",
       "\n",
       "      Publication.Date  \n",
       "88884       29-12-2022  \n",
       "88885              NaN  \n",
       "88886       27-12-2022  \n",
       "88887              NaN  \n",
       "88888       30-12-2022  \n",
       "\n",
       "[5 rows x 31 columns]"
      ]
     },
     "execution_count": 3,
     "metadata": {},
     "output_type": "execute_result"
    }
   ],
   "source": [
    "#Loading the aviation dataset\n",
    "aviation_df = pd.read_csv('data/AviationData.csv', encoding = 'ISO-8859-1', low_memory = False)\n",
    "# Previewing the top and bottom of our dataset\n",
    "aviation_df.tail()"
   ]
  },
  {
   "cell_type": "markdown",
   "metadata": {},
   "source": [
    "Data Inspection and Exploration"
   ]
  },
  {
   "cell_type": "code",
   "execution_count": 4,
   "metadata": {},
   "outputs": [
    {
     "data": {
      "text/plain": [
       "(88889, 31)"
      ]
     },
     "execution_count": 4,
     "metadata": {},
     "output_type": "execute_result"
    }
   ],
   "source": [
    "#Checking the size of the DataFrame\n",
    "aviation_df.shape"
   ]
  },
  {
   "cell_type": "code",
   "execution_count": 5,
   "metadata": {},
   "outputs": [
    {
     "name": "stdout",
     "output_type": "stream",
     "text": [
      "<class 'pandas.core.frame.DataFrame'>\n",
      "RangeIndex: 88889 entries, 0 to 88888\n",
      "Data columns (total 31 columns):\n",
      " #   Column                  Non-Null Count  Dtype  \n",
      "---  ------                  --------------  -----  \n",
      " 0   Event.Id                88889 non-null  object \n",
      " 1   Investigation.Type      88889 non-null  object \n",
      " 2   Accident.Number         88889 non-null  object \n",
      " 3   Event.Date              88889 non-null  object \n",
      " 4   Location                88837 non-null  object \n",
      " 5   Country                 88663 non-null  object \n",
      " 6   Latitude                34382 non-null  object \n",
      " 7   Longitude               34373 non-null  object \n",
      " 8   Airport.Code            50249 non-null  object \n",
      " 9   Airport.Name            52790 non-null  object \n",
      " 10  Injury.Severity         87889 non-null  object \n",
      " 11  Aircraft.damage         85695 non-null  object \n",
      " 12  Aircraft.Category       32287 non-null  object \n",
      " 13  Registration.Number     87572 non-null  object \n",
      " 14  Make                    88826 non-null  object \n",
      " 15  Model                   88797 non-null  object \n",
      " 16  Amateur.Built           88787 non-null  object \n",
      " 17  Number.of.Engines       82805 non-null  float64\n",
      " 18  Engine.Type             81812 non-null  object \n",
      " 19  FAR.Description         32023 non-null  object \n",
      " 20  Schedule                12582 non-null  object \n",
      " 21  Purpose.of.flight       82697 non-null  object \n",
      " 22  Air.carrier             16648 non-null  object \n",
      " 23  Total.Fatal.Injuries    77488 non-null  float64\n",
      " 24  Total.Serious.Injuries  76379 non-null  float64\n",
      " 25  Total.Minor.Injuries    76956 non-null  float64\n",
      " 26  Total.Uninjured         82977 non-null  float64\n",
      " 27  Weather.Condition       84397 non-null  object \n",
      " 28  Broad.phase.of.flight   61724 non-null  object \n",
      " 29  Report.Status           82508 non-null  object \n",
      " 30  Publication.Date        75118 non-null  object \n",
      "dtypes: float64(5), object(26)\n",
      "memory usage: 21.0+ MB\n"
     ]
    }
   ],
   "source": [
    "# Checking whether each column has an appropriate datatype\n",
    "aviation_df.info()"
   ]
  },
  {
   "cell_type": "code",
   "execution_count": 6,
   "metadata": {},
   "outputs": [
    {
     "data": {
      "text/html": [
       "<div>\n",
       "<style scoped>\n",
       "    .dataframe tbody tr th:only-of-type {\n",
       "        vertical-align: middle;\n",
       "    }\n",
       "\n",
       "    .dataframe tbody tr th {\n",
       "        vertical-align: top;\n",
       "    }\n",
       "\n",
       "    .dataframe thead th {\n",
       "        text-align: right;\n",
       "    }\n",
       "</style>\n",
       "<table border=\"1\" class=\"dataframe\">\n",
       "  <thead>\n",
       "    <tr style=\"text-align: right;\">\n",
       "      <th></th>\n",
       "      <th>Number.of.Engines</th>\n",
       "      <th>Total.Fatal.Injuries</th>\n",
       "      <th>Total.Serious.Injuries</th>\n",
       "      <th>Total.Minor.Injuries</th>\n",
       "      <th>Total.Uninjured</th>\n",
       "    </tr>\n",
       "  </thead>\n",
       "  <tbody>\n",
       "    <tr>\n",
       "      <th>count</th>\n",
       "      <td>82805.000000</td>\n",
       "      <td>77488.000000</td>\n",
       "      <td>76379.000000</td>\n",
       "      <td>76956.000000</td>\n",
       "      <td>82977.000000</td>\n",
       "    </tr>\n",
       "    <tr>\n",
       "      <th>mean</th>\n",
       "      <td>1.146585</td>\n",
       "      <td>0.647855</td>\n",
       "      <td>0.279881</td>\n",
       "      <td>0.357061</td>\n",
       "      <td>5.325440</td>\n",
       "    </tr>\n",
       "    <tr>\n",
       "      <th>std</th>\n",
       "      <td>0.446510</td>\n",
       "      <td>5.485960</td>\n",
       "      <td>1.544084</td>\n",
       "      <td>2.235625</td>\n",
       "      <td>27.913634</td>\n",
       "    </tr>\n",
       "    <tr>\n",
       "      <th>min</th>\n",
       "      <td>0.000000</td>\n",
       "      <td>0.000000</td>\n",
       "      <td>0.000000</td>\n",
       "      <td>0.000000</td>\n",
       "      <td>0.000000</td>\n",
       "    </tr>\n",
       "    <tr>\n",
       "      <th>25%</th>\n",
       "      <td>1.000000</td>\n",
       "      <td>0.000000</td>\n",
       "      <td>0.000000</td>\n",
       "      <td>0.000000</td>\n",
       "      <td>0.000000</td>\n",
       "    </tr>\n",
       "    <tr>\n",
       "      <th>50%</th>\n",
       "      <td>1.000000</td>\n",
       "      <td>0.000000</td>\n",
       "      <td>0.000000</td>\n",
       "      <td>0.000000</td>\n",
       "      <td>1.000000</td>\n",
       "    </tr>\n",
       "    <tr>\n",
       "      <th>75%</th>\n",
       "      <td>1.000000</td>\n",
       "      <td>0.000000</td>\n",
       "      <td>0.000000</td>\n",
       "      <td>0.000000</td>\n",
       "      <td>2.000000</td>\n",
       "    </tr>\n",
       "    <tr>\n",
       "      <th>max</th>\n",
       "      <td>8.000000</td>\n",
       "      <td>349.000000</td>\n",
       "      <td>161.000000</td>\n",
       "      <td>380.000000</td>\n",
       "      <td>699.000000</td>\n",
       "    </tr>\n",
       "  </tbody>\n",
       "</table>\n",
       "</div>"
      ],
      "text/plain": [
       "       Number.of.Engines  Total.Fatal.Injuries  Total.Serious.Injuries  \\\n",
       "count       82805.000000          77488.000000            76379.000000   \n",
       "mean            1.146585              0.647855                0.279881   \n",
       "std             0.446510              5.485960                1.544084   \n",
       "min             0.000000              0.000000                0.000000   \n",
       "25%             1.000000              0.000000                0.000000   \n",
       "50%             1.000000              0.000000                0.000000   \n",
       "75%             1.000000              0.000000                0.000000   \n",
       "max             8.000000            349.000000              161.000000   \n",
       "\n",
       "       Total.Minor.Injuries  Total.Uninjured  \n",
       "count          76956.000000     82977.000000  \n",
       "mean               0.357061         5.325440  \n",
       "std                2.235625        27.913634  \n",
       "min                0.000000         0.000000  \n",
       "25%                0.000000         0.000000  \n",
       "50%                0.000000         1.000000  \n",
       "75%                0.000000         2.000000  \n",
       "max              380.000000       699.000000  "
      ]
     },
     "execution_count": 6,
     "metadata": {},
     "output_type": "execute_result"
    }
   ],
   "source": [
    "#Getting the summary statistics of the numerical data \n",
    "aviation_df.describe()"
   ]
  },
  {
   "cell_type": "markdown",
   "metadata": {},
   "source": [
    "The DataFrame contains 88,889 entries with 31 columns. The data is primarily categorical, with many columns containing missing values. The Latitude and Longitude columns have a significant amount of missing data, which may impact geographic analysis. 5 columns are numeric and contain float values, the remaining 26 columns are categorical."
   ]
  },
  {
   "cell_type": "markdown",
   "metadata": {},
   "source": [
    "### Data Cleaning and handling\n"
   ]
  },
  {
   "cell_type": "markdown",
   "metadata": {},
   "source": [
    "Identify duplicated and missing values"
   ]
  },
  {
   "cell_type": "code",
   "execution_count": 7,
   "metadata": {},
   "outputs": [
    {
     "data": {
      "text/plain": [
       "0"
      ]
     },
     "execution_count": 7,
     "metadata": {},
     "output_type": "execute_result"
    }
   ],
   "source": [
    "# Check for duplicated rows in the dataframe\n",
    "aviation_df.duplicated().sum()\n"
   ]
  },
  {
   "cell_type": "code",
   "execution_count": 8,
   "metadata": {},
   "outputs": [
    {
     "name": "stdout",
     "output_type": "stream",
     "text": [
      "Event.Id                      0\n",
      "Investigation.Type            0\n",
      "Accident.Number               0\n",
      "Event.Date                    0\n",
      "Location                     52\n",
      "Country                     226\n",
      "Latitude                  54507\n",
      "Longitude                 54516\n",
      "Airport.Code              38640\n",
      "Airport.Name              36099\n",
      "Injury.Severity            1000\n",
      "Aircraft.damage            3194\n",
      "Aircraft.Category         56602\n",
      "Registration.Number        1317\n",
      "Make                         63\n",
      "Model                        92\n",
      "Amateur.Built               102\n",
      "Number.of.Engines          6084\n",
      "Engine.Type                7077\n",
      "FAR.Description           56866\n",
      "Schedule                  76307\n",
      "Purpose.of.flight          6192\n",
      "Air.carrier               72241\n",
      "Total.Fatal.Injuries      11401\n",
      "Total.Serious.Injuries    12510\n",
      "Total.Minor.Injuries      11933\n",
      "Total.Uninjured            5912\n",
      "Weather.Condition          4492\n",
      "Broad.phase.of.flight     27165\n",
      "Report.Status              6381\n",
      "Publication.Date          13771\n",
      "dtype: int64\n"
     ]
    }
   ],
   "source": [
    "# Check for missing values\n",
    "print(aviation_df.isnull().sum())"
   ]
  },
  {
   "cell_type": "code",
   "execution_count": 9,
   "metadata": {},
   "outputs": [
    {
     "name": "stdout",
     "output_type": "stream",
     "text": [
      "reg_no_duplicates: 9783\n",
      "event_id_duplicates: 938\n"
     ]
    }
   ],
   "source": [
    "# Check for duplicated values in the 'Registration.Number' and 'Event.Id' columns since they should have unique values\n",
    "reg_no_duplicates = aviation_df['Registration.Number'].duplicated().sum()\n",
    "event_id_duplicates = aviation_df['Event.Id'].duplicated().sum()\n",
    "\n",
    "print('reg_no_duplicates:', reg_no_duplicates)\n",
    "print('event_id_duplicates:', event_id_duplicates)"
   ]
  },
  {
   "cell_type": "code",
   "execution_count": 10,
   "metadata": {},
   "outputs": [],
   "source": [
    "#dropping the duplicate values but retaining the first of each\n",
    "aviation_df.drop_duplicates(subset = ['Registration.Number'], keep='first', inplace=True)\n",
    "aviation_df.drop_duplicates(subset = ['Event.Id'], keep='first', inplace=True)"
   ]
  },
  {
   "cell_type": "code",
   "execution_count": 11,
   "metadata": {},
   "outputs": [],
   "source": [
    "# Splitting date field in the components\n",
    "aviation_df['Year'] = aviation_df['Event.Date'].apply(lambda d: datetime.datetime.strptime(d, \"%Y-%m-%d\").year)\n",
    "aviation_df['Month'] = aviation_df['Event.Date'].apply(lambda d: datetime.datetime.strptime(d, \"%Y-%m-%d\").month)\n",
    "aviation_df['Day'] = aviation_df['Event.Date'].apply(lambda d: datetime.datetime.strptime(d, \"%Y-%m-%d\").day)\n",
    "\n",
    "aviation_df = aviation_df[aviation_df['Year'] >= 1962] # Getting rid of data before 1962"
   ]
  },
  {
   "cell_type": "code",
   "execution_count": 12,
   "metadata": {},
   "outputs": [],
   "source": [
    "# United States is overrepresented in Country column more than 90% of the Country column is the United States. \n",
    "# As the focus is on the US aviation accidents create a new dataframe df_us to focus on the United States\n",
    "df_us = aviation_df[aviation_df['Country'] == 'United States']"
   ]
  },
  {
   "cell_type": "code",
   "execution_count": 13,
   "metadata": {
    "scrolled": true
   },
   "outputs": [
    {
     "name": "stderr",
     "output_type": "stream",
     "text": [
      "C:\\Users\\Han\\anaconda3\\envs\\learn-env\\lib\\site-packages\\pandas\\core\\frame.py:3065: SettingWithCopyWarning: \n",
      "A value is trying to be set on a copy of a slice from a DataFrame.\n",
      "Try using .loc[row_indexer,col_indexer] = value instead\n",
      "\n",
      "See the caveats in the documentation: https://pandas.pydata.org/pandas-docs/stable/user_guide/indexing.html#returning-a-view-versus-a-copy\n",
      "  self[k1] = value[k2]\n",
      "C:\\Users\\Han\\anaconda3\\envs\\learn-env\\lib\\site-packages\\pandas\\core\\indexing.py:1745: SettingWithCopyWarning: \n",
      "A value is trying to be set on a copy of a slice from a DataFrame.\n",
      "Try using .loc[row_indexer,col_indexer] = value instead\n",
      "\n",
      "See the caveats in the documentation: https://pandas.pydata.org/pandas-docs/stable/user_guide/indexing.html#returning-a-view-versus-a-copy\n",
      "  isetter(ilocs[0], value)\n"
     ]
    }
   ],
   "source": [
    "# Extract US State abbreviations\n",
    "state_abbreviations = US_State_df['Abbreviation'].str.strip().tolist()\n",
    "\n",
    "# Function to extract city and state from the location string\n",
    "def extract_city_state(location):\n",
    "    if pd.notna(location):\n",
    "        location = location.strip()\n",
    "        last_two_chars = location[-2:].upper()\n",
    "        if last_two_chars in state_abbreviations:\n",
    "            return location[:-4].strip(), last_two_chars\n",
    "        else:\n",
    "            return location, \"Not Applicable\" # Some accidents have not happened in a particular state\n",
    "    else:\n",
    "        return np.nan, np.nan\n",
    "\n",
    "# Apply the function to extract City and State\n",
    "df_us[['City', 'State']]= df_us['Location'].apply(extract_city_state).apply(pd.Series)\n",
    "\n",
    "# Getting rid of trailing commas in City column and capitalizing the City name\n",
    "df_us.loc[:, 'City'] = df_us['City'].str.rstrip(',').str.title()\n",
    "\n",
    "\n",
    "# print(df_us[['Location', 'City', 'State']].head())"
   ]
  },
  {
   "cell_type": "markdown",
   "metadata": {},
   "source": [
    "Dropping columns that aren't important for this analysis"
   ]
  },
  {
   "cell_type": "code",
   "execution_count": 14,
   "metadata": {},
   "outputs": [],
   "source": [
    "columns_to_drop = ['Latitude', 'Longitude', 'Airport.Code', 'Airport.Name', 'FAR.Description',\n",
    "                   'Schedule', 'Air.carrier', 'Accident.Number', 'Amateur.Built', \n",
    "                   'Publication.Date', 'Publication.Date', 'Engine.Type',\n",
    "                  'Event.Date', 'Location']# Dropping the 'Event.Date' and 'Location' columns having divided them\n",
    "\n",
    "df_clean = df_us.drop(columns = columns_to_drop)"
   ]
  },
  {
   "cell_type": "markdown",
   "metadata": {},
   "source": [
    "Handling missing values based on the context"
   ]
  },
  {
   "cell_type": "code",
   "execution_count": 15,
   "metadata": {},
   "outputs": [],
   "source": [
    "# Fill missing values in numerical columns with mean\n",
    "numerical_columns = df_clean.select_dtypes(include=['number']).columns\n",
    "\n",
    "for column in numerical_columns:\n",
    "    df_clean[column].fillna(df_clean[column].mean(), inplace=True)\n",
    "    #print(column , df_clean[column].unique())"
   ]
  },
  {
   "cell_type": "code",
   "execution_count": 16,
   "metadata": {},
   "outputs": [
    {
     "name": "stdout",
     "output_type": "stream",
     "text": [
      "Event.Id ['20001218X45447' '20061025X01555' '20001218X45448' ... '20221227106497'\n",
      " '20221227106498' '20221230106513']\n",
      "Investigation.Type ['Accident' 'Incident']\n",
      "Country ['United States']\n",
      "Injury.Severity ['Fatal(4)' 'Fatal(3)' 'Fatal(2)' 'Fatal(1)' 'Non-Fatal' 'Incident'\n",
      " 'Fatal(8)' 'Fatal(78)' 'Fatal(7)' 'Fatal(6)' 'Fatal(5)' 'Fatal(153)'\n",
      " 'Fatal(12)' 'Fatal(14)' 'Fatal(23)' 'Fatal(10)' 'Fatal(11)' 'Fatal(17)'\n",
      " 'Fatal(13)' 'Fatal(70)' 'Fatal(9)' 'Unavailable' 'Fatal(135)' 'Fatal(31)'\n",
      " 'Fatal(25)' 'Fatal(82)' 'Fatal(156)' 'Fatal(28)' 'Fatal(18)' 'Fatal(43)'\n",
      " 'Fatal(111)' 'Fatal(20)' 'Fatal(73)' 'Fatal(34)' 'Fatal(27)' 'Fatal(16)'\n",
      " 'Fatal(37)' 'Fatal(132)' 'Fatal(68)' 'Fatal(15)' 'Fatal(110)'\n",
      " 'Fatal(230)' 'Fatal(29)' 'Fatal(228)' 'Fatal(88)' 'Fatal(19)' 'Fatal(44)'\n",
      " 'Fatal(64)' 'Fatal(65)' 'Fatal(92)' 'Fatal(265)' 'Fatal(21)' 'Fatal(49)'\n",
      " 'Fatal' 'Unknown' 'Minor' 'Serious']\n",
      "Aircraft.damage ['Destroyed' 'Substantial' 'Minor' 'Unknown']\n",
      "Aircraft.Category ['Unknown' 'Airplane' 'Helicopter' 'Glider' 'Balloon' 'Gyrocraft' 'Blimp'\n",
      " 'Ultralight' 'Powered-Lift' 'Weight-Shift' 'Powered Parachute' 'Rocket'\n",
      " 'WSFT' 'ULTR']\n",
      "Registration.Number ['N5069P' 'N5142R' 'N1168J' ... 'N749PJ' 'N210CU' 'N9026P']\n",
      "Make ['Piper' 'Cessna' 'Rockwell' ... 'JAMES R DERNOVSEK' 'ORLICAN S R O'\n",
      " 'ROYSE RALPH L']\n",
      "Model ['PA24-180' '172M' '112' ... 'KITFOX S5' 'M-8 EAGLE' 'PA42']\n",
      "Purpose.of.flight ['Personal' 'Unknown' 'Business' 'Instructional' 'Ferry'\n",
      " 'Executive/corporate' 'Aerial Observation' 'Aerial Application'\n",
      " 'Public Aircraft' 'Skydiving' 'Other Work Use' 'Positioning'\n",
      " 'Flight Test' 'Air Race/show' 'Air Drop' 'Glider Tow'\n",
      " 'Public Aircraft - Federal' 'Public Aircraft - Local' 'External Load'\n",
      " 'Public Aircraft - State' 'Banner Tow' 'Firefighting' 'Air Race show'\n",
      " 'PUBS' 'ASHO']\n",
      "Weather.Condition ['UNK' 'IMC' 'VMC' 'Unknown' 'Unk']\n",
      "Broad.phase.of.flight ['Unknown' 'Cruise' 'Approach' 'Climb' 'Takeoff' 'Landing' 'Taxi'\n",
      " 'Descent' 'Maneuvering' 'Standing' 'Go-around' 'Other']\n",
      "Report.Status ['Probable Cause' 'Factual' 'Preliminary' ...\n",
      " 'The pilot did not ensure adequate clearance from construction vehicles during taxi.'\n",
      " 'The pilot\\x92s failure to secure the magneto switch before attempting to hand rotate the engine which resulted in an inadvertent engine start, a runaway airplane, and subsequent impact with parked airplanes. Contributing to the accident was the failure to properly secure the airplane with chocks.'\n",
      " 'The pilot\\x92s loss of control due to a wind gust during landing.']\n",
      "City ['Bridgeport' 'Saltville' 'Eureka' ... 'Fox Island' 'Kellyton'\n",
      " 'Auburn Hills']\n",
      "State ['CA' 'VA' 'OH' 'MA' 'MN' 'WA' 'NJ' 'FL' 'NM' 'AL' 'LA' 'TX' 'OK' 'AR'\n",
      " 'UT' 'AK' 'PA' 'MI' 'GA' 'NC' 'NY' 'MT' 'OR' 'NV' 'IN' 'AZ' 'MO' 'WY'\n",
      " 'IL' 'SC' 'MD' 'HI' 'CO' 'WV' 'MS' 'DC' 'ID' 'VT' 'KS' 'NH' 'IA' 'WI'\n",
      " 'KY' 'CT' 'TN' 'ME' 'SD' 'NE' 'RI' 'ND' 'DE' 'Unknown' 'PR' 'GU' 'PO'\n",
      " 'GM' 'AO' 'Not Applicable' 'VI']\n"
     ]
    }
   ],
   "source": [
    "# Replace null values in categorical features with 'Unknown'\n",
    "categorical_columns = df_clean.select_dtypes(include=['object']).columns\n",
    "\n",
    "for column in categorical_columns:\n",
    "    df_clean[column].fillna('Unknown', inplace=True) \n",
    "    print(column , df_clean[column].unique()) #prints unique values of categorical variables of the clean dataframe"
   ]
  },
  {
   "cell_type": "markdown",
   "metadata": {},
   "source": [
    "Normalization of the dataset for consistency"
   ]
  },
  {
   "cell_type": "code",
   "execution_count": 17,
   "metadata": {},
   "outputs": [],
   "source": [
    "# Replacing 'Unk' with 'UNK' in 'Weather.Condition column\n",
    "df_clean['Weather.Condition'] = df_clean['Weather.Condition'].replace('Unk', 'UNK')\n",
    "\n",
    "# Creating a new Fatality column with less missing numerical data\n",
    "df_clean['Fatality'] = df_clean['Injury.Severity'].str.extract(r'\\((\\d+)\\)')\n",
    "df_clean['Fatality'].replace({'Non-Fatal': 0, 'Minor': 0, 'Serious': 0, 'Incident': 0, 'Unavailable': 0, np.nan: 0}, inplace=True)\n",
    "df_clean['Fatality'] = df_clean.apply(lambda row: row['Total.Fatal.Injuries'] if row['Fatality'] == 'Fatal' else row['Fatality'], axis=1)\n",
    "df_clean['Fatality'] = df_clean['Fatality'].astype(int)  # converting the Fatality from string to Integer values\n",
    "df_clean.drop(columns=['Total.Fatal.Injuries'], inplace=True)  # dropping Fatal_injuries column\n",
    "\n",
    "# Replacing similar values with a single standardized value in Purpose.of.flight\n",
    "df_clean['Purpose.of.flight'] = df_clean['Purpose.of.flight'].replace({\n",
    "    'Air Race/show': 'Air Race/Show', 'Air Race show': 'Air Race/Show',\n",
    "    'Public Aircraft - Federal': 'Public Aircraft', 'Public Aircraft - State': 'Public Aircraft',\n",
    "    'Public Aircraft - Local': 'Public Aircraft', 'Aerial Observation': 'Aerial Observation/Application',\n",
    "    'Aerial Application': 'Aerial Observation/Application', 'PUBS': 'Public Aircraft',\n",
    "    'PUBL': 'Public Aircraft',  'ASHO': 'Air Race/Show' })\n",
    "\n",
    "df_clean['Aircraft.Category'] = df_clean['Aircraft.Category'].replace({'WSFT': 'Weight-Shift', 'ULTR': 'Ultralight'})\n",
    "\n",
    "# Standardizing 'Make' column to uppercase\n",
    "df_clean['Make'] = df_clean['Make'].str.upper()\n",
    "\n",
    "# Replacing 'Not Applicable'with 'Unknown' in 'State' column\n",
    "df_clean['State'] = df_clean['State'].replace('Not Applicable', 'Unknown')\n",
    "\n",
    "\n",
    "# Renaming columns for better readability\n",
    "new_column_names = {'Event.Id': 'ID', 'Investigation.Type': 'Type', 'Aircraft.damage': 'Damage_type', \n",
    "                    'Aircraft.Category': 'Aircraft_Category', 'Registration.Number': 'Registration_Number', \n",
    "                    'Number.of.Engines': 'Engines', 'Purpose.of.flight': 'Flight_Purpose',\n",
    "                    'Injury.Severity': 'Injury_Severity', 'Total.Serious.Injuries': 'Serious_Injuries',\n",
    "                    'Total.Minor.Injuries': 'Minor_Injuries', 'Total.Uninjured': 'Uninjured', \n",
    "                    'Weather.Condition': 'Weather_Condition', 'Broad.phase.of.flight': 'Phase_of_Flight', 'Report.Status': 'Report_Status'}\n",
    "df_clean.rename(columns=new_column_names, inplace=True)"
   ]
  },
  {
   "cell_type": "code",
   "execution_count": 18,
   "metadata": {},
   "outputs": [],
   "source": [
    "# Function to standardize the 'Injury.Severity' column\n",
    "def standardize_injury_severity(severity):\n",
    "    if 'Fatal' in severity:\n",
    "        return 'Fatal'\n",
    "    return severity\n",
    "# Apply the function to the 'Injury_Severity' column\n",
    "df_clean['Injury_Severity'] = df_clean['Injury_Severity'].apply(standardize_injury_severity)\n",
    "\n",
    "# Replacing 'Not Applicable'with 'Unknown' in 'State' column\n",
    "df_clean['Injury_Severity'] = df_clean['Injury_Severity'].replace('Unavailable', 'Unknown')# Returns ['Fatal', 'Incident', 'Unknown', 'Minor', 'Serious']"
   ]
  },
  {
   "cell_type": "code",
   "execution_count": 19,
   "metadata": {
    "scrolled": true
   },
   "outputs": [
    {
     "name": "stdout",
     "output_type": "stream",
     "text": [
      "ID ['20001218X45447' '20061025X01555' '20001218X45448' ... '20221227106497'\n",
      " '20221227106498' '20221230106513']\n",
      "Type ['Accident' 'Incident']\n",
      "Country ['United States']\n",
      "Injury_Severity ['Fatal' 'Incident' 'Unknown' 'Minor' 'Serious']\n",
      "Damage_type ['Destroyed' 'Substantial' 'Minor' 'Unknown']\n",
      "Aircraft_Category ['Unknown' 'Airplane' 'Helicopter' 'Glider' 'Balloon' 'Gyrocraft' 'Blimp'\n",
      " 'Ultralight' 'Powered-Lift' 'Weight-Shift' 'Powered Parachute' 'Rocket']\n",
      "Registration_Number ['N5069P' 'N5142R' 'N1168J' ... 'N749PJ' 'N210CU' 'N9026P']\n",
      "Make ['PIPER' 'CESSNA' 'ROCKWELL' ... 'JAMES R DERNOVSEK' 'ORLICAN S R O'\n",
      " 'ROYSE RALPH L']\n",
      "Model ['PA24-180' '172M' '112' ... 'KITFOX S5' 'M-8 EAGLE' 'PA42']\n",
      "Flight_Purpose ['Personal' 'Unknown' 'Business' 'Instructional' 'Ferry'\n",
      " 'Executive/corporate' 'Aerial Observation/Application' 'Public Aircraft'\n",
      " 'Skydiving' 'Other Work Use' 'Positioning' 'Flight Test' 'Air Race/Show'\n",
      " 'Air Drop' 'Glider Tow' 'External Load' 'Banner Tow' 'Firefighting']\n",
      "Weather_Condition ['UNK' 'IMC' 'VMC' 'Unknown']\n",
      "Phase_of_Flight ['Unknown' 'Cruise' 'Approach' 'Climb' 'Takeoff' 'Landing' 'Taxi'\n",
      " 'Descent' 'Maneuvering' 'Standing' 'Go-around' 'Other']\n",
      "Report_Status ['Probable Cause' 'Factual' 'Preliminary' ...\n",
      " 'The pilot did not ensure adequate clearance from construction vehicles during taxi.'\n",
      " 'The pilot\\x92s failure to secure the magneto switch before attempting to hand rotate the engine which resulted in an inadvertent engine start, a runaway airplane, and subsequent impact with parked airplanes. Contributing to the accident was the failure to properly secure the airplane with chocks.'\n",
      " 'The pilot\\x92s loss of control due to a wind gust during landing.']\n",
      "City ['Bridgeport' 'Saltville' 'Eureka' ... 'Fox Island' 'Kellyton'\n",
      " 'Auburn Hills']\n",
      "State ['CA' 'VA' 'OH' 'MA' 'MN' 'WA' 'NJ' 'FL' 'NM' 'AL' 'LA' 'TX' 'OK' 'AR'\n",
      " 'UT' 'AK' 'PA' 'MI' 'GA' 'NC' 'NY' 'MT' 'OR' 'NV' 'IN' 'AZ' 'MO' 'WY'\n",
      " 'IL' 'SC' 'MD' 'HI' 'CO' 'WV' 'MS' 'DC' 'ID' 'VT' 'KS' 'NH' 'IA' 'WI'\n",
      " 'KY' 'CT' 'TN' 'ME' 'SD' 'NE' 'RI' 'ND' 'DE' 'Unknown' 'PR' 'GU' 'PO'\n",
      " 'GM' 'AO' 'VI']\n"
     ]
    }
   ],
   "source": [
    "categorical_columns = df_clean.select_dtypes(include=['object']).columns\n",
    "\n",
    "for column in categorical_columns:\n",
    "    print(column , df_clean[column].unique())\n",
    "    "
   ]
  },
  {
   "cell_type": "code",
   "execution_count": null,
   "metadata": {},
   "outputs": [],
   "source": []
  },
  {
   "cell_type": "code",
   "execution_count": 20,
   "metadata": {},
   "outputs": [
    {
     "data": {
      "text/plain": [
       "array(['Fatal', 'Incident', 'Unknown', 'Minor', 'Serious'], dtype=object)"
      ]
     },
     "execution_count": 20,
     "metadata": {},
     "output_type": "execute_result"
    }
   ],
   "source": [
    "df_clean['Injury_Severity'].unique()"
   ]
  },
  {
   "cell_type": "markdown",
   "metadata": {},
   "source": [
    "Additional columns for further analysis"
   ]
  },
  {
   "cell_type": "code",
   "execution_count": 21,
   "metadata": {},
   "outputs": [],
   "source": [
    "# Adding a column of sum of total injuries inclusive of fatalities\n",
    "df_clean['Total_Injuries'] = df_clean['Serious_Injuries'] + df_clean['Minor_Injuries'] + df_clean['Fatality']\n",
    "\n",
    "# Getting an idea of how many people were in the aircraft\n",
    "df_clean['People_Involved'] = df_clean['Total_Injuries'] + df_clean['Uninjured']\n"
   ]
  },
  {
   "cell_type": "markdown",
   "metadata": {},
   "source": [
    "Checking for Outliers"
   ]
  },
  {
   "cell_type": "code",
   "execution_count": 29,
   "metadata": {},
   "outputs": [
    {
     "data": {
      "image/png": "[encoded data removed]",
      "text/plain": [
       "<Figure size 432x288 with 1 Axes>"
      ]
     },
     "metadata": {
      "needs_background": "light"
     },
     "output_type": "display_data"
    }
   ],
   "source": [
    "plt.boxplot(df_clean['People_Involved'], vert=False) \n",
    "plt.ylabel('Variable') \n",
    "plt.xlabel('People_Involved') \n",
    "plt.title('Box Plot') \n",
    "plt.show()"
   ]
  },
  {
   "cell_type": "markdown",
   "metadata": {},
   "source": [
    "The boxplot reveals outliers in the number of people involved in the accidents. Understanding these outliers helps identify anomalies in the data, which can inform safety measures and aircraft selection."
   ]
  },
  {
   "cell_type": "code",
   "execution_count": 30,
   "metadata": {},
   "outputs": [
    {
     "name": "stdout",
     "output_type": "stream",
     "text": [
      "<class 'pandas.core.frame.DataFrame'>\n",
      "Int64Index: 73232 entries, 1 to 88888\n",
      "Data columns (total 26 columns):\n",
      " #   Column               Non-Null Count  Dtype  \n",
      "---  ------               --------------  -----  \n",
      " 0   ID                   73232 non-null  object \n",
      " 1   Type                 73232 non-null  object \n",
      " 2   Country              73232 non-null  object \n",
      " 3   Injury_Severity      73232 non-null  object \n",
      " 4   Damage_type          73232 non-null  object \n",
      " 5   Aircraft_Category    73232 non-null  object \n",
      " 6   Registration_Number  73232 non-null  object \n",
      " 7   Make                 73232 non-null  object \n",
      " 8   Model                73232 non-null  object \n",
      " 9   Engines              73232 non-null  float64\n",
      " 10  Flight_Purpose       73232 non-null  object \n",
      " 11  Serious_Injuries     73232 non-null  float64\n",
      " 12  Minor_Injuries       73232 non-null  float64\n",
      " 13  Uninjured            73232 non-null  float64\n",
      " 14  Weather_Condition    73232 non-null  object \n",
      " 15  Phase_of_Flight      73232 non-null  object \n",
      " 16  Report_Status        73232 non-null  object \n",
      " 17  Year                 73232 non-null  int64  \n",
      " 18  Month                73232 non-null  int64  \n",
      " 19  Day                  73232 non-null  int64  \n",
      " 20  City                 73232 non-null  object \n",
      " 21  State                73232 non-null  object \n",
      " 22  Fatality             73232 non-null  int32  \n",
      " 23  Total_Injuries       73232 non-null  float64\n",
      " 24  People_Involved      73232 non-null  float64\n",
      " 25  Enterprise_Type      73232 non-null  object \n",
      "dtypes: float64(6), int32(1), int64(3), object(16)\n",
      "memory usage: 14.8+ MB\n",
      "None\n",
      "ID                     0\n",
      "Type                   0\n",
      "Country                0\n",
      "Injury_Severity        0\n",
      "Damage_type            0\n",
      "Aircraft_Category      0\n",
      "Registration_Number    0\n",
      "Make                   0\n",
      "Model                  0\n",
      "Engines                0\n",
      "Flight_Purpose         0\n",
      "Serious_Injuries       0\n",
      "Minor_Injuries         0\n",
      "Uninjured              0\n",
      "Weather_Condition      0\n",
      "Phase_of_Flight        0\n",
      "Report_Status          0\n",
      "Year                   0\n",
      "Month                  0\n",
      "Day                    0\n",
      "City                   0\n",
      "State                  0\n",
      "Fatality               0\n",
      "Total_Injuries         0\n",
      "People_Involved        0\n",
      "Enterprise_Type        0\n",
      "dtype: int64\n"
     ]
    }
   ],
   "source": [
    "# Final check of the cleaned dataframe\n",
    "print(df_clean.info())\n",
    "print(df_clean.isnull().sum())"
   ]
  },
  {
   "cell_type": "code",
   "execution_count": 31,
   "metadata": {},
   "outputs": [
    {
     "data": {
      "text/html": [
       "<div>\n",
       "<style scoped>\n",
       "    .dataframe tbody tr th:only-of-type {\n",
       "        vertical-align: middle;\n",
       "    }\n",
       "\n",
       "    .dataframe tbody tr th {\n",
       "        vertical-align: top;\n",
       "    }\n",
       "\n",
       "    .dataframe thead th {\n",
       "        text-align: right;\n",
       "    }\n",
       "</style>\n",
       "<table border=\"1\" class=\"dataframe\">\n",
       "  <thead>\n",
       "    <tr style=\"text-align: right;\">\n",
       "      <th></th>\n",
       "      <th>ID</th>\n",
       "      <th>Type</th>\n",
       "      <th>Country</th>\n",
       "      <th>Injury_Severity</th>\n",
       "      <th>Damage_type</th>\n",
       "      <th>Aircraft_Category</th>\n",
       "      <th>Registration_Number</th>\n",
       "      <th>Make</th>\n",
       "      <th>Model</th>\n",
       "      <th>Engines</th>\n",
       "      <th>...</th>\n",
       "      <th>Report_Status</th>\n",
       "      <th>Year</th>\n",
       "      <th>Month</th>\n",
       "      <th>Day</th>\n",
       "      <th>City</th>\n",
       "      <th>State</th>\n",
       "      <th>Fatality</th>\n",
       "      <th>Total_Injuries</th>\n",
       "      <th>People_Involved</th>\n",
       "      <th>Enterprise_Type</th>\n",
       "    </tr>\n",
       "  </thead>\n",
       "  <tbody>\n",
       "    <tr>\n",
       "      <th>88884</th>\n",
       "      <td>20221227106491</td>\n",
       "      <td>Accident</td>\n",
       "      <td>United States</td>\n",
       "      <td>Minor</td>\n",
       "      <td>Unknown</td>\n",
       "      <td>Unknown</td>\n",
       "      <td>N1867H</td>\n",
       "      <td>PIPER</td>\n",
       "      <td>PA-28-151</td>\n",
       "      <td>1.138622</td>\n",
       "      <td>...</td>\n",
       "      <td>Unknown</td>\n",
       "      <td>2022</td>\n",
       "      <td>12</td>\n",
       "      <td>26</td>\n",
       "      <td>Annapolis</td>\n",
       "      <td>MD</td>\n",
       "      <td>0</td>\n",
       "      <td>1.0</td>\n",
       "      <td>1.0</td>\n",
       "      <td>Unknown</td>\n",
       "    </tr>\n",
       "    <tr>\n",
       "      <th>88885</th>\n",
       "      <td>20221227106494</td>\n",
       "      <td>Accident</td>\n",
       "      <td>United States</td>\n",
       "      <td>Unknown</td>\n",
       "      <td>Unknown</td>\n",
       "      <td>Unknown</td>\n",
       "      <td>N2895Z</td>\n",
       "      <td>BELLANCA</td>\n",
       "      <td>7ECA</td>\n",
       "      <td>1.138622</td>\n",
       "      <td>...</td>\n",
       "      <td>Unknown</td>\n",
       "      <td>2022</td>\n",
       "      <td>12</td>\n",
       "      <td>26</td>\n",
       "      <td>Hampton</td>\n",
       "      <td>NH</td>\n",
       "      <td>0</td>\n",
       "      <td>0.0</td>\n",
       "      <td>0.0</td>\n",
       "      <td>Unknown</td>\n",
       "    </tr>\n",
       "    <tr>\n",
       "      <th>88886</th>\n",
       "      <td>20221227106497</td>\n",
       "      <td>Accident</td>\n",
       "      <td>United States</td>\n",
       "      <td>Fatal</td>\n",
       "      <td>Substantial</td>\n",
       "      <td>Airplane</td>\n",
       "      <td>N749PJ</td>\n",
       "      <td>AMERICAN CHAMPION AIRCRAFT</td>\n",
       "      <td>8GCBC</td>\n",
       "      <td>1.000000</td>\n",
       "      <td>...</td>\n",
       "      <td>Unknown</td>\n",
       "      <td>2022</td>\n",
       "      <td>12</td>\n",
       "      <td>26</td>\n",
       "      <td>Payson</td>\n",
       "      <td>AZ</td>\n",
       "      <td>0</td>\n",
       "      <td>0.0</td>\n",
       "      <td>1.0</td>\n",
       "      <td>Commercial</td>\n",
       "    </tr>\n",
       "    <tr>\n",
       "      <th>88887</th>\n",
       "      <td>20221227106498</td>\n",
       "      <td>Accident</td>\n",
       "      <td>United States</td>\n",
       "      <td>Unknown</td>\n",
       "      <td>Unknown</td>\n",
       "      <td>Unknown</td>\n",
       "      <td>N210CU</td>\n",
       "      <td>CESSNA</td>\n",
       "      <td>210N</td>\n",
       "      <td>1.138622</td>\n",
       "      <td>...</td>\n",
       "      <td>Unknown</td>\n",
       "      <td>2022</td>\n",
       "      <td>12</td>\n",
       "      <td>26</td>\n",
       "      <td>Morgan</td>\n",
       "      <td>UT</td>\n",
       "      <td>0</td>\n",
       "      <td>0.0</td>\n",
       "      <td>0.0</td>\n",
       "      <td>Unknown</td>\n",
       "    </tr>\n",
       "    <tr>\n",
       "      <th>88888</th>\n",
       "      <td>20221230106513</td>\n",
       "      <td>Accident</td>\n",
       "      <td>United States</td>\n",
       "      <td>Minor</td>\n",
       "      <td>Unknown</td>\n",
       "      <td>Unknown</td>\n",
       "      <td>N9026P</td>\n",
       "      <td>PIPER</td>\n",
       "      <td>PA-24-260</td>\n",
       "      <td>1.138622</td>\n",
       "      <td>...</td>\n",
       "      <td>Unknown</td>\n",
       "      <td>2022</td>\n",
       "      <td>12</td>\n",
       "      <td>29</td>\n",
       "      <td>Athens</td>\n",
       "      <td>GA</td>\n",
       "      <td>0</td>\n",
       "      <td>1.0</td>\n",
       "      <td>2.0</td>\n",
       "      <td>Unknown</td>\n",
       "    </tr>\n",
       "  </tbody>\n",
       "</table>\n",
       "<p>5 rows × 26 columns</p>\n",
       "</div>"
      ],
      "text/plain": [
       "                   ID      Type        Country Injury_Severity  Damage_type  \\\n",
       "88884  20221227106491  Accident  United States           Minor      Unknown   \n",
       "88885  20221227106494  Accident  United States         Unknown      Unknown   \n",
       "88886  20221227106497  Accident  United States           Fatal  Substantial   \n",
       "88887  20221227106498  Accident  United States         Unknown      Unknown   \n",
       "88888  20221230106513  Accident  United States           Minor      Unknown   \n",
       "\n",
       "      Aircraft_Category Registration_Number                        Make  \\\n",
       "88884           Unknown              N1867H                       PIPER   \n",
       "88885           Unknown              N2895Z                    BELLANCA   \n",
       "88886          Airplane              N749PJ  AMERICAN CHAMPION AIRCRAFT   \n",
       "88887           Unknown              N210CU                      CESSNA   \n",
       "88888           Unknown              N9026P                       PIPER   \n",
       "\n",
       "           Model   Engines  ... Report_Status  Year  Month  Day       City  \\\n",
       "88884  PA-28-151  1.138622  ...       Unknown  2022     12   26  Annapolis   \n",
       "88885       7ECA  1.138622  ...       Unknown  2022     12   26    Hampton   \n",
       "88886      8GCBC  1.000000  ...       Unknown  2022     12   26     Payson   \n",
       "88887       210N  1.138622  ...       Unknown  2022     12   26     Morgan   \n",
       "88888  PA-24-260  1.138622  ...       Unknown  2022     12   29     Athens   \n",
       "\n",
       "      State Fatality  Total_Injuries  People_Involved  Enterprise_Type  \n",
       "88884    MD        0             1.0              1.0          Unknown  \n",
       "88885    NH        0             0.0              0.0          Unknown  \n",
       "88886    AZ        0             0.0              1.0       Commercial  \n",
       "88887    UT        0             0.0              0.0          Unknown  \n",
       "88888    GA        0             1.0              2.0          Unknown  \n",
       "\n",
       "[5 rows x 26 columns]"
      ]
     },
     "execution_count": 31,
     "metadata": {},
     "output_type": "execute_result"
    }
   ],
   "source": [
    "df_clean.tail()"
   ]
  },
  {
   "cell_type": "markdown",
   "metadata": {},
   "source": [
    "## Exploratory data analysis (EDA)"
   ]
  },
  {
   "cell_type": "markdown",
   "metadata": {},
   "source": [
    "##### 1. Is there a trend in the number of accidents over years?"
   ]
  },
  {
   "cell_type": "code",
   "execution_count": 33,
   "metadata": {},
   "outputs": [
    {
     "data": {
      "image/png": "[encoded data removed]",
      "text/plain": [
       "<Figure size 1008x504 with 1 Axes>"
      ]
     },
     "metadata": {
      "needs_background": "light"
     },
     "output_type": "display_data"
    }
   ],
   "source": [
    "# Aggregating the number of non-fatal accidents per year\n",
    "accidents_per_year = df_clean['Year'].value_counts().sort_index()\n",
    "\n",
    "# Plotting the trend of non-fatal accidents over the years\n",
    "plt.figure(figsize=(14, 7))\n",
    "sns.lineplot(x=accidents_per_year.index, y=accidents_per_year.values)\n",
    "plt.title('Trend of Non-Fatal Accidents Over the Years')\n",
    "plt.xlabel('Year')\n",
    "plt.ylabel('Number of Non-Fatal Accidents')\n",
    "plt.grid(True)\n",
    "plt.show()"
   ]
  },
  {
   "cell_type": "markdown",
   "metadata": {},
   "source": [
    "#### Interpretation:\n",
    "This line plot shows the number of accidents over the years. There is a noticeable peak around the early 1980s, followed by a general decline. This trend indicates improvements in aviation safety over time. \n"
   ]
  },
  {
   "cell_type": "markdown",
   "metadata": {},
   "source": [
    "##### 3. What extent of injuries are caused by these accidents?"
   ]
  },
  {
   "cell_type": "code",
   "execution_count": null,
   "metadata": {},
   "outputs": [],
   "source": [
    "# Distribution of Injury Severity\n",
    "fig, ax = plt.subplots(figsize = (12, 6))\n",
    "\n",
    "sns.countplot(x = 'Injury_Severity', data = df_clean, palette = 'Set2')\n",
    "ax.set_title('Distribution of Injury Severity')\n",
    "ax.set_xlabel('Severity')\n",
    "ax.set_ylabel('Count');\n"
   ]
  },
  {
   "cell_type": "markdown",
   "metadata": {},
   "source": [
    "#### Interpretation:\n",
    "The distribution shows the majority of incidents from aircrafts with least accident count result in \"Fatal\" injuries, indicating that while accidents occur, they mostly do result in severe fatal injuries. \n"
   ]
  },
  {
   "cell_type": "markdown",
   "metadata": {},
   "source": [
    "#### What is the distribution of each aircraft type?"
   ]
  },
  {
   "cell_type": "code",
   "execution_count": null,
   "metadata": {},
   "outputs": [],
   "source": [
    "# Creating new DataFrame of aircraft accidents that don't result in fatalities\n",
    "df_non_fatal = df_clean[df_clean['Injury_Severity'] != 'Fatal']"
   ]
  },
  {
   "cell_type": "code",
   "execution_count": null,
   "metadata": {},
   "outputs": [],
   "source": [
    "involved_aircrafts = df_non_fatal['Aircraft_Category'].value_counts().index\n",
    "\n",
    "# Distribution of different aircraft types involved in accidents\n",
    "plt.figure(figsize=(12, 6))\n",
    "sns.countplot(data = df_non_fatal, y='Aircraft_Category', order = involved_aircrafts)\n",
    "plt.title('Types of Aircrafts Involved in Accidents')\n",
    "plt.xlabel('Number of Accidents')\n",
    "plt.ylabel('Aircraft Type')\n",
    "plt.show()"
   ]
  },
  {
   "cell_type": "markdown",
   "metadata": {},
   "source": [
    "#### Interpretation:\n"
   ]
  },
  {
   "cell_type": "markdown",
   "metadata": {},
   "source": [
    "##### What types of Damages do the Aircrafts that don't result in fatality cause?"
   ]
  },
  {
   "cell_type": "code",
   "execution_count": null,
   "metadata": {},
   "outputs": [],
   "source": [
    "# Distribution of Aircraft Damage Types\n",
    "plt.figure(figsize=(10, 6))\n",
    "sns.countplot(y = 'Damage_type', data = df_clean, \n",
    "              order = df_clean['Damage_type'].value_counts().index, palette = 'mako')\n",
    "\n",
    "plt.title('Distribution of Aircraft Damage Types')\n",
    "plt.xlabel('Count')\n",
    "plt.ylabel('Damage Type')\n",
    "plt.show()\n"
   ]
  },
  {
   "cell_type": "code",
   "execution_count": null,
   "metadata": {},
   "outputs": [],
   "source": [
    "# Distribution of Aircraft Damage Types\n",
    "plt.figure(figsize=(10, 6))\n",
    "sns.countplot(y = 'Damage_type', data = df_non_fatal, \n",
    "              order = df_non_fatal['Damage_type'].value_counts().index, palette = 'mako')\n",
    "\n",
    "plt.title('Distribution of Aircraft Damage Types')\n",
    "plt.xlabel('Count')\n",
    "plt.ylabel('Damage Type')\n",
    "plt.show()\n"
   ]
  },
  {
   "cell_type": "markdown",
   "metadata": {},
   "source": [
    "#### Interpretation:\n",
    "The plot demonstrates that \"Minor\" damage is the most prevalent type, followed by \"Substantial\" and \"Destroyed\" damages. \n",
    "By focusing on aircraft models with a track record of sustaining minor damages, we can reduce potential risks and ensuring overall safety. "
   ]
  },
  {
   "cell_type": "markdown",
   "metadata": {},
   "source": [
    "##### Which Aircraft Makes and Models were involved in the most accidents? "
   ]
  },
  {
   "cell_type": "code",
   "execution_count": null,
   "metadata": {},
   "outputs": [],
   "source": [
    "df_clean['Make'].value_counts().sum()"
   ]
  },
  {
   "cell_type": "code",
   "execution_count": null,
   "metadata": {},
   "outputs": [],
   "source": [
    "make_counts_non_fatal = df_non_fatal['Make'].value_counts().nlargest(10)\n",
    "model_counts_non_fatal = df_non_fatal['Model'].value_counts().nlargest(10)\n",
    "\n",
    "\n",
    "fig, axes = plt.subplots(nrows=1, ncols=2, figsize=(20, 7))\n",
    "\n",
    "# Plotting accident counts by aircraft make\n",
    "sns.barplot(x = make_counts_non_fatal.values, y = make_counts_non_fatal.index, palette = 'viridis', ax = axes[0])\n",
    "axes[0].set_title('Top 10 Aircraft Makes by Non-Fatal Accident Counts')\n",
    "axes[0].set_xlabel('Accident Count')\n",
    "axes[0].set_ylabel('Aircraft Make')\n",
    "\n",
    "# Plotting accident counts by aircraft model\n",
    "sns.barplot(x = model_counts_non_fatal.values, y = model_counts_non_fatal.index, palette = 'rocket', ax = axes[1])\n",
    "axes[1].set_title('Top 10 Aircraft Models by Non-Fatal Accident Counts')\n",
    "axes[1].set_xlabel('Accident Count')\n",
    "axes[1].set_ylabel('Aircraft Model')\n",
    "\n",
    "plt.tight_layout()  # Adjust layout to prevent overlap\n",
    "plt.show()"
   ]
  },
  {
   "cell_type": "markdown",
   "metadata": {},
   "source": [
    "##### What is the relationship between Flight Purpose and Injury Severity?"
   ]
  },
  {
   "cell_type": "code",
   "execution_count": null,
   "metadata": {},
   "outputs": [],
   "source": [
    "plt.figure(figsize = (10, 7))\n",
    "sns.countplot(y = 'Flight_Purpose', hue = 'Injury_Severity', data = df_non_fatal, palette = 'Set1')\n",
    "plt.title('Injury Severity by Flight Purpose')\n",
    "plt.xlabel('Count')\n",
    "plt.ylabel('Flight Purpose')\n",
    "plt.legend(title = 'Injury Severity')\n",
    "plt.show()\n"
   ]
  },
  {
   "cell_type": "markdown",
   "metadata": {},
   "source": [
    "#### Interpretation:\n",
    "The plot reveals that personal flights have the highest count of minor and serious injuries, suggesting they may pose a higher risk compared to other flight purposes. By focusing on flight purposes with fewer and less severe injuries, the company can prioritize safer operational contexts for their new aviation venture. "
   ]
  },
  {
   "cell_type": "code",
   "execution_count": null,
   "metadata": {},
   "outputs": [],
   "source": [
    "plt.figure(figsize = (10, 7))\n",
    "sns.countplot(y = 'Weather_Condition', hue = 'Injury_Severity', data = df_non_fatal, palette = 'Set1')\n",
    "plt.title('Injury Severity by Flight Purpose')\n",
    "plt.xlabel('Count')\n",
    "plt.ylabel('Flight Purpose')\n",
    "plt.legend(title = 'Injury Severity')\n",
    "plt.show()\n"
   ]
  },
  {
   "cell_type": "code",
   "execution_count": null,
   "metadata": {},
   "outputs": [],
   "source": [
    "plt.figure(figsize=(10, 7))\n",
    "sns.scatterplot(x='Weather_Condition', y='Total_Injuries', data=df_non_fatal)\n",
    "plt.title('Weather Condition vs. Total Injuries for Non-Fatal Accidents')\n",
    "plt.xlabel('Weather Condition')\n",
    "plt.ylabel('Number of Injuries')\n",
    "plt.xticks(rotation=45)\n",
    "plt.show()\n"
   ]
  },
  {
   "cell_type": "markdown",
   "metadata": {},
   "source": [
    "#### Interpretation:\n",
    "This visualization shows the distribution of damage types across the top 10 aircraft makes. It helps identify which aircraft makes are more prone to certain types of damage, aiding the company in selecting safer aircraft.\n"
   ]
  },
  {
   "cell_type": "code",
   "execution_count": null,
   "metadata": {},
   "outputs": [],
   "source": [
    "# Relationship between injury severity and other variables\n",
    "# The relationship between injury severity and weather conditions\n",
    "plt.figure(figsize=(10, 6))\n",
    "sns.countplot(data=df_non_fatal, x='Weather_Condition', hue='Injury_Severity')\n",
    "plt.title('Injury Severity by Weather Condition')\n",
    "plt.xlabel('Weather Condition')\n",
    "plt.ylabel('Count')\n",
    "plt.legend(title='Injury Severity')\n",
    "plt.xticks(rotation=45)\n",
    "plt.show()"
   ]
  },
  {
   "cell_type": "code",
   "execution_count": null,
   "metadata": {},
   "outputs": [],
   "source": [
    "plt.figure(figsize=(10, 7))\n",
    "sns.countplot(y='Flight_Purpose', hue='Weather_Condition', data=df_non_fatal, palette='coolwarm')\n",
    "plt.title('Flight Purpose by Weather Condition')\n",
    "plt.xlabel('Count')\n",
    "plt.ylabel('Flight Purpose')\n",
    "plt.legend(title='Weather Condition')\n",
    "plt.show()\n"
   ]
  },
  {
   "cell_type": "markdown",
   "metadata": {},
   "source": [
    "##### Correlation Analysis"
   ]
  },
  {
   "cell_type": "code",
   "execution_count": null,
   "metadata": {
    "scrolled": true
   },
   "outputs": [],
   "source": [
    "plt.figure(figsize=(12, 10))\n",
    "corr_matrix = df_clean.corr() # calculate the correlation matrix\n",
    "sns.heatmap(corr_matrix, annot=True, cmap='coolwarm', fmt='.2f')\n",
    "plt.title('Correlation Matrix')\n",
    "plt.show()\n"
   ]
  },
  {
   "cell_type": "code",
   "execution_count": null,
   "metadata": {},
   "outputs": [],
   "source": []
  },
  {
   "cell_type": "code",
   "execution_count": null,
   "metadata": {},
   "outputs": [],
   "source": []
  },
  {
   "cell_type": "code",
   "execution_count": null,
   "metadata": {},
   "outputs": [],
   "source": []
  },
  {
   "cell_type": "markdown",
   "metadata": {},
   "source": [
    "Insights and Interpretations\n",
    "Distribution of Injury Severity: The distribution plot of injury severity will help identify how common fatal accidents are compared to non-fatal, minor, and serious injuries.\n",
    "Distribution of Aircraft Makes: Understanding which aircraft makes are most common can help focus the analysis on the most frequently used aircraft and their associated risks.\n",
    "Distribution of Flight Purposes: Analyzing the flight purposes can provide insights into which types of flights are more prone to accidents.\n",
    "Injury Severity by Aircraft Make: This bivariate analysis will reveal which aircraft makes are associated with higher or lower injury severity.\n",
    "Injury Severity by Flight Purpose: This will help understand which flight purposes have higher risks associated with severe injuries or fatalities.\n",
    "Correlation Matrix: The heatmap will show correlations between numerical variables, helping to identify potential factors that correlate with higher fatalities or injuries.\n",
    "Pairplot: This will provide a visual summary of relationships between multiple numerical variables, allowing for the identification of patterns or clusters.\n",
    "Recommendations\n",
    "Based on the visualizations and analysis, the following recommendations can be made:\n",
    "\n",
    "Prioritize Aircraft with Lower Fatality Rates: Focus on aircraft makes and models that show lower fatality rates in the injury severity analysis.\n",
    "Evaluate Flight Purposes: Consider the purpose of flights when purchasing aircraft. Certain flight purposes might be associated with higher risks.\n",
    "Detailed Analysis of High-Risk Aircraft Makes: Conduct a deeper investigation into aircraft makes that are associated with higher injury severities to understand the underlying causes.\n",
    "Risk Mitigation Strategies: Develop strategies to mitigate risks for flight purposes that are associated with higher injury severities.\n",
    "Continuous Monitoring: Implement a system for continuous monitoring and analysis of aviation accident data to make data-driven decisions for fleet management and safety improvements."
   ]
  },
  {
   "cell_type": "code",
   "execution_count": null,
   "metadata": {},
   "outputs": [],
   "source": []
  },
  {
   "cell_type": "code",
   "execution_count": null,
   "metadata": {},
   "outputs": [],
   "source": [
    "a"
   ]
  },
  {
   "cell_type": "markdown",
   "metadata": {},
   "source": [
    "Saving the clean preprocessed dataframe so as to use it in Tableau to create an interactive dashboard"
   ]
  },
  {
   "cell_type": "code",
   "execution_count": null,
   "metadata": {},
   "outputs": [],
   "source": [
    "df_clean.to_csv('preprocessed_aviation_data.csv', index=False)"
   ]
  },
  {
   "cell_type": "code",
   "execution_count": null,
   "metadata": {},
   "outputs": [],
   "source": []
  }
 ],
 "metadata": {
  "kernelspec": {
   "display_name": "Python (learn-env)",
   "language": "python",
   "name": "learn-env"
  },
  "language_info": {
   "codemirror_mode": {
    "name": "ipython",
    "version": 3
   },
   "file_extension": ".py",
   "mimetype": "text/x-python",
   "name": "python",
   "nbconvert_exporter": "python",
   "pygments_lexer": "ipython3",
   "version": "3.8.5"
  }
 },
 "nbformat": 4,
 "nbformat_minor": 4
}
